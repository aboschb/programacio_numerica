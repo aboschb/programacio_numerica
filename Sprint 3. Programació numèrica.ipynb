{
 "cells": [
  {
   "cell_type": "markdown",
   "id": "855b076e",
   "metadata": {},
   "source": [
    "# Exercici 1"
   ]
  },
  {
   "cell_type": "markdown",
   "id": "e0b3f5d5",
   "metadata": {},
   "source": [
    "Donat el següent dataframe data = {'Col1': [50, 30, 10, 40, 20]}, ordena els valors en ordre ascendent i descendent."
   ]
  },
  {
   "cell_type": "code",
   "execution_count": 8,
   "id": "1f296610",
   "metadata": {},
   "outputs": [
    {
     "data": {
      "text/html": [
       "<div>\n",
       "<style scoped>\n",
       "    .dataframe tbody tr th:only-of-type {\n",
       "        vertical-align: middle;\n",
       "    }\n",
       "\n",
       "    .dataframe tbody tr th {\n",
       "        vertical-align: top;\n",
       "    }\n",
       "\n",
       "    .dataframe thead th {\n",
       "        text-align: right;\n",
       "    }\n",
       "</style>\n",
       "<table border=\"1\" class=\"dataframe\">\n",
       "  <thead>\n",
       "    <tr style=\"text-align: right;\">\n",
       "      <th></th>\n",
       "      <th>Col1</th>\n",
       "    </tr>\n",
       "  </thead>\n",
       "  <tbody>\n",
       "    <tr>\n",
       "      <th>2</th>\n",
       "      <td>10</td>\n",
       "    </tr>\n",
       "    <tr>\n",
       "      <th>4</th>\n",
       "      <td>20</td>\n",
       "    </tr>\n",
       "    <tr>\n",
       "      <th>1</th>\n",
       "      <td>30</td>\n",
       "    </tr>\n",
       "    <tr>\n",
       "      <th>3</th>\n",
       "      <td>40</td>\n",
       "    </tr>\n",
       "    <tr>\n",
       "      <th>0</th>\n",
       "      <td>50</td>\n",
       "    </tr>\n",
       "  </tbody>\n",
       "</table>\n",
       "</div>"
      ],
      "text/plain": [
       "   Col1\n",
       "2    10\n",
       "4    20\n",
       "1    30\n",
       "3    40\n",
       "0    50"
      ]
     },
     "execution_count": 8,
     "metadata": {},
     "output_type": "execute_result"
    }
   ],
   "source": [
    "import pandas as pd # Importem la llibreria Pandas\n",
    "\n",
    "data = {'Col1': [50, 30, 10, 40, 20]} # Dades que tenim\n",
    "df = pd.DataFrame(data)  # Convertim les dades en un dataframe\n",
    "df.sort_values(by='Col1', ascending=True, inplace=True) # Ordenem els valors en ordre ascendent\n",
    "\n",
    "df # Cridem al dataframe per veure el resultat"
   ]
  },
  {
   "cell_type": "code",
   "execution_count": 10,
   "id": "ce588fc8",
   "metadata": {},
   "outputs": [
    {
     "data": {
      "text/html": [
       "<div>\n",
       "<style scoped>\n",
       "    .dataframe tbody tr th:only-of-type {\n",
       "        vertical-align: middle;\n",
       "    }\n",
       "\n",
       "    .dataframe tbody tr th {\n",
       "        vertical-align: top;\n",
       "    }\n",
       "\n",
       "    .dataframe thead th {\n",
       "        text-align: right;\n",
       "    }\n",
       "</style>\n",
       "<table border=\"1\" class=\"dataframe\">\n",
       "  <thead>\n",
       "    <tr style=\"text-align: right;\">\n",
       "      <th></th>\n",
       "      <th>Col1</th>\n",
       "    </tr>\n",
       "  </thead>\n",
       "  <tbody>\n",
       "    <tr>\n",
       "      <th>0</th>\n",
       "      <td>50</td>\n",
       "    </tr>\n",
       "    <tr>\n",
       "      <th>3</th>\n",
       "      <td>40</td>\n",
       "    </tr>\n",
       "    <tr>\n",
       "      <th>1</th>\n",
       "      <td>30</td>\n",
       "    </tr>\n",
       "    <tr>\n",
       "      <th>4</th>\n",
       "      <td>20</td>\n",
       "    </tr>\n",
       "    <tr>\n",
       "      <th>2</th>\n",
       "      <td>10</td>\n",
       "    </tr>\n",
       "  </tbody>\n",
       "</table>\n",
       "</div>"
      ],
      "text/plain": [
       "   Col1\n",
       "0    50\n",
       "3    40\n",
       "1    30\n",
       "4    20\n",
       "2    10"
      ]
     },
     "execution_count": 10,
     "metadata": {},
     "output_type": "execute_result"
    }
   ],
   "source": [
    "df.sort_values(by='Col1', ascending=False, inplace=True) # Ordenem els valors en ordre descendent\n",
    "\n",
    "df # Cridem al dataframe per veure el resultat"
   ]
  },
  {
   "cell_type": "markdown",
   "id": "541f9946",
   "metadata": {},
   "source": [
    "# Exercici 2"
   ]
  },
  {
   "cell_type": "markdown",
   "id": "cedf3d65",
   "metadata": {},
   "source": [
    "Donat el següent dataframe data = {'Col1': [50, 30, 10, 40, 20]}, filtra els valors que siguin més grans que 30."
   ]
  },
  {
   "cell_type": "code",
   "execution_count": 23,
   "id": "ac7ba07b",
   "metadata": {},
   "outputs": [
    {
     "data": {
      "text/html": [
       "<div>\n",
       "<style scoped>\n",
       "    .dataframe tbody tr th:only-of-type {\n",
       "        vertical-align: middle;\n",
       "    }\n",
       "\n",
       "    .dataframe tbody tr th {\n",
       "        vertical-align: top;\n",
       "    }\n",
       "\n",
       "    .dataframe thead th {\n",
       "        text-align: right;\n",
       "    }\n",
       "</style>\n",
       "<table border=\"1\" class=\"dataframe\">\n",
       "  <thead>\n",
       "    <tr style=\"text-align: right;\">\n",
       "      <th></th>\n",
       "      <th>Col1</th>\n",
       "    </tr>\n",
       "  </thead>\n",
       "  <tbody>\n",
       "    <tr>\n",
       "      <th>0</th>\n",
       "      <td>50</td>\n",
       "    </tr>\n",
       "    <tr>\n",
       "      <th>3</th>\n",
       "      <td>40</td>\n",
       "    </tr>\n",
       "  </tbody>\n",
       "</table>\n",
       "</div>"
      ],
      "text/plain": [
       "   Col1\n",
       "0    50\n",
       "3    40"
      ]
     },
     "execution_count": 23,
     "metadata": {},
     "output_type": "execute_result"
    }
   ],
   "source": [
    "data = {'Col1': [50, 30, 10, 40, 20]} # Dades donades\n",
    "df = pd.DataFrame(data) # Convertim les dades en un dataframe\n",
    "\n",
    "filtre = df['Col1'] > 30 # Creem un filtre (que guardem en la variable 'filtre'), \n",
    "                         # el qual selecciona els valors més grans de 30 de la columna 1 ('Col1') del dataframe.\n",
    "    \n",
    "resultats_filtrats = df[filtre] # En la variable resultats_filtrats guardarem el filtre que hem creat anteriorment\n",
    "\n",
    "resultats_filtrats # Cridem a la variable per veure els resultats"
   ]
  },
  {
   "cell_type": "markdown",
   "id": "aa2d923f",
   "metadata": {},
   "source": [
    "# Exercici 3"
   ]
  },
  {
   "cell_type": "markdown",
   "id": "e22cc93b",
   "metadata": {},
   "source": [
    "Donat el següent dataframe data = {'Col1': [50, 30, 10, 40, 10]}, comptabilitza els valors únics."
   ]
  },
  {
   "cell_type": "code",
   "execution_count": 21,
   "id": "0dac9ff8",
   "metadata": {},
   "outputs": [
    {
     "name": "stdout",
     "output_type": "stream",
     "text": [
      "4\n"
     ]
    }
   ],
   "source": [
    "data = {'Col1': [50, 30, 10, 40, 10]} # Dades donades\n",
    "df = pd.DataFrame(data) # Convertim les dades en un dataframe\n",
    "\n",
    "valors_unics = df['Col1'].nunique() # Comptabilitzem els valors únics del dataframe i els guardem en la variable 'valors_unics'\n",
    "\n",
    "print(valors_unics) # Mostrem el resultat"
   ]
  },
  {
   "cell_type": "markdown",
   "id": "04e59d48",
   "metadata": {},
   "source": [
    "# Exercici 4"
   ]
  },
  {
   "cell_type": "markdown",
   "id": "cbdc163f",
   "metadata": {},
   "source": [
    "Donat el següent dataframe: data = {'Grup': ['A', 'B', 'A', 'B', 'A'], 'Col1': [10, 20, 30, 40, 50]}, suma les dades que pertanyen a la mateixa columna."
   ]
  },
  {
   "cell_type": "code",
   "execution_count": 25,
   "id": "931b8aab",
   "metadata": {},
   "outputs": [
    {
     "name": "stdout",
     "output_type": "stream",
     "text": [
      "Grup\n",
      "A    90\n",
      "B    60\n",
      "Name: Col1, dtype: int64\n"
     ]
    }
   ],
   "source": [
    "data = {'Grup': ['A', 'B', 'A', 'B', 'A'], 'Col1': [10, 20, 30, 40, 50]} # Dades donades\n",
    "df = pd.DataFrame(data) # Convertim les dades en un dataframe\n",
    "\n",
    "suma_grup = df.groupby('Grup')['Col1'].sum() # Sumem les dades per grup, sumant per separat els valors de A i de B.\n",
    "\n",
    "print(suma_grup) # Mostrem el resultat"
   ]
  },
  {
   "cell_type": "markdown",
   "id": "15ea798d",
   "metadata": {},
   "source": [
    "# Exercici 5"
   ]
  },
  {
   "cell_type": "markdown",
   "id": "fe19acc2",
   "metadata": {},
   "source": [
    "Donat el següent dataframe: data = {'Grup': ['A', 'B', 'A', 'B', 'A'], 'Col1': [10, 20, 30, 40, 50]}, crea una columna nova ‘Col2’ que sigui 2 si és superior al percentil 75% de la ‘Col1’, 0 si és inferior al 25% del percentil de la columna ‘Col1’ i 1 si cau entremig."
   ]
  },
  {
   "cell_type": "code",
   "execution_count": 26,
   "id": "70cf2085",
   "metadata": {},
   "outputs": [
    {
     "name": "stdout",
     "output_type": "stream",
     "text": [
      "  Grup  Col1  Col2\n",
      "0    A    10     0\n",
      "1    B    20     1\n",
      "2    A    30     1\n",
      "3    B    40     1\n",
      "4    A    50     2\n"
     ]
    }
   ],
   "source": [
    "# Importem les llibreries necessàries\n",
    "import numpy as np\n",
    "from scipy.stats import percentileofscore\n",
    "\n",
    "data = {'Grup': ['A', 'B', 'A', 'B', 'A'], 'Col1': [10, 20, 30, 40, 50]} # Dades donades\n",
    "df = pd.DataFrame(data) # Convertim les dades en un dataframe\n",
    "\n",
    "# Calculem el percentil 25% i 75% de la columna 'Col1'\n",
    "percentil_25 = np.percentile(df['Col1'], 25)\n",
    "percentil_75 = np.percentile(df['Col1'], 75)\n",
    "\n",
    "def assigna_valor(valor): # Definim la funció\n",
    "    if valor > percentil_75: # Si el valor és superior al percentil 75%\n",
    "        return 2 # Retorna el valor 2\n",
    "    elif valor < percentil_25: # En cas que el valor sigui inferior al 25% del percentil\n",
    "        return 0 # Retorna el valor 0\n",
    "    else: # En la resta de condicions\n",
    "        return 1 # Retorna el valor 1\n",
    "\n",
    "# Apliquem la funció a cada fila de 'Col1' i assignem els valors a 'Col2'\n",
    "df['Col2'] = df['Col1'].apply(assigna_valor)\n",
    " \n",
    "print(df) # Mostrem el dataframe amb la 'Col2' afegida\n"
   ]
  },
  {
   "cell_type": "markdown",
   "id": "22f7faad",
   "metadata": {},
   "source": [
    "# Exercici 6"
   ]
  },
  {
   "cell_type": "markdown",
   "id": "0af4bfcb",
   "metadata": {},
   "source": [
    "Donat el següent dataframe: data = {'Grup': ['A', 'B', 'A', 'B', 'A'], 'Col1': [10, 20, 30, 40, 50]}, aplica lambda per obtenir el quadrat de la columna ‘Col1’ en una nova columna."
   ]
  },
  {
   "cell_type": "code",
   "execution_count": 7,
   "id": "888f87be",
   "metadata": {},
   "outputs": [
    {
     "name": "stdout",
     "output_type": "stream",
     "text": [
      "  Grup  Col1  Col2\n",
      "0    A    10   100\n",
      "1    B    20   400\n",
      "2    A    30   900\n",
      "3    B    40  1600\n",
      "4    A    50  2500\n"
     ]
    }
   ],
   "source": [
    "import pandas as pd # Importem la llibreria Pandas\n",
    "\n",
    "data = {'Grup': ['A', 'B', 'A', 'B', 'A'], 'Col1': [10, 20, 30, 40, 50]} # Dades donades\n",
    "df = pd.DataFrame(data) # Convertim les dades en un dataframe\n",
    "\n",
    "# Creem una nova columna anomenada 'Col2' en la qual guardarem el resultat del quadrat de cada valor de la columna 'Col1', \n",
    "# aplicant lambda\n",
    "df['Col2'] = df['Col1'].apply(lambda x: x ** 2)\n",
    "\n",
    "print(df) # Mostrem el dataframe amb la columna 2 afegida"
   ]
  }
 ],
 "metadata": {
  "kernelspec": {
   "display_name": "Python 3 (ipykernel)",
   "language": "python",
   "name": "python3"
  },
  "language_info": {
   "codemirror_mode": {
    "name": "ipython",
    "version": 3
   },
   "file_extension": ".py",
   "mimetype": "text/x-python",
   "name": "python",
   "nbconvert_exporter": "python",
   "pygments_lexer": "ipython3",
   "version": "3.11.1"
  }
 },
 "nbformat": 4,
 "nbformat_minor": 5
}
